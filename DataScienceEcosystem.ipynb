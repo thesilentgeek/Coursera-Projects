{
 "cells": [
  {
   "cell_type": "markdown",
   "id": "995ad4e7",
   "metadata": {},
   "source": [
    "# Data Science Tools and Ecosystems"
   ]
  },
  {
   "cell_type": "markdown",
   "id": "b4c422ab",
   "metadata": {},
   "source": [
    "In this note book Data Science Tools and Ecosystems are summarized"
   ]
  },
  {
   "cell_type": "markdown",
   "id": "ef13ae3a",
   "metadata": {},
   "source": [
    "Some of the Popular languages that Data scientist use are:\n",
    "    1. Python\n",
    "    2. Sql\n",
    "    3. R"
   ]
  },
  {
   "cell_type": "markdown",
   "id": "75acf820",
   "metadata": {},
   "source": [
    "Some of the Commonly used libraies by data scientist include:\n",
    "    1. Pandas\n",
    "    2. Numpy\n",
    "    3. Matploitlib"
   ]
  },
  {
   "cell_type": "markdown",
   "id": "4fd9a403",
   "metadata": {},
   "source": [
    "|Data Science Tools|\n",
    "|------------------|\n",
    "|Jupyter Notebook|\n",
    "|R-Studio|\n",
    "|Apache Spark|\n"
   ]
  },
  {
   "cell_type": "markdown",
   "id": "e5f37de9",
   "metadata": {},
   "source": [
    "### Below are a few examples of evaluating arithmetic expressions in Python"
   ]
  },
  {
   "cell_type": "code",
   "execution_count": 2,
   "id": "432d4993",
   "metadata": {},
   "outputs": [
    {
     "name": "stdout",
     "output_type": "stream",
     "text": [
      "17\n"
     ]
    }
   ],
   "source": [
    "#This a simple arithmetic expression to mutiply then add integers\n",
    "print((3*4)+5)"
   ]
  },
  {
   "cell_type": "code",
   "execution_count": 3,
   "id": "ef6add34",
   "metadata": {},
   "outputs": [
    {
     "name": "stdout",
     "output_type": "stream",
     "text": [
      "3.3333333333333335\n"
     ]
    }
   ],
   "source": [
    "#This will convert 200 minutes to hours by diving by 60\n",
    "minutes = 200\n",
    "ConvertToHours = 60\n",
    "Hours = minutes/ConvertToHours\n",
    "print(Hours)"
   ]
  },
  {
   "cell_type": "markdown",
   "id": "3250f865",
   "metadata": {},
   "source": [
    "<b>OBJECTIVES</b>.\n",
    "* Popular languages Data scientist use.\n",
    "* Commonly used libraries used by data scientist.\n",
    "* Drawing a table on jupyter notebook."
   ]
  },
  {
   "cell_type": "markdown",
   "id": "00cf6990",
   "metadata": {},
   "source": [
    "## Author\n",
    "SOBANDE, David."
   ]
  },
  {
   "cell_type": "code",
   "execution_count": null,
   "id": "5c5d8c47",
   "metadata": {},
   "outputs": [],
   "source": []
  }
 ],
 "metadata": {
  "kernelspec": {
   "display_name": "Python 3",
   "language": "python",
   "name": "python3"
  },
  "language_info": {
   "codemirror_mode": {
    "name": "ipython",
    "version": 3
   },
   "file_extension": ".py",
   "mimetype": "text/x-python",
   "name": "python",
   "nbconvert_exporter": "python",
   "pygments_lexer": "ipython3",
   "version": "3.8.8"
  }
 },
 "nbformat": 4,
 "nbformat_minor": 5
}
